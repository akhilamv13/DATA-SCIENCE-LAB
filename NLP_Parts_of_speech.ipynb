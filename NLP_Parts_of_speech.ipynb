{
  "nbformat": 4,
  "nbformat_minor": 0,
  "metadata": {
    "colab": {
      "provenance": [],
      "collapsed_sections": []
    },
    "kernelspec": {
      "name": "python3",
      "display_name": "Python 3"
    },
    "language_info": {
      "name": "python"
    }
  },
  "cells": [
    {
      "cell_type": "code",
      "execution_count": 1,
      "metadata": {
        "id": "h1IjGoOK78S2"
      },
      "outputs": [],
      "source": [
        "import spacy"
      ]
    },
    {
      "cell_type": "code",
      "source": [
        "sp=spacy.load('en_core_web_sm')"
      ],
      "metadata": {
        "id": "8RK4u7VP8Hqf"
      },
      "execution_count": 2,
      "outputs": []
    },
    {
      "cell_type": "code",
      "source": [
        "sen=sp(u\"I like to eat food.I hated to eat sandwitch in my childhood.\")"
      ],
      "metadata": {
        "id": "NfP4OPY88gi1"
      },
      "execution_count": 3,
      "outputs": []
    },
    {
      "cell_type": "code",
      "source": [
        "print(sen.text)"
      ],
      "metadata": {
        "colab": {
          "base_uri": "https://localhost:8080/"
        },
        "id": "eqrPZbX980sc",
        "outputId": "730d307d-8e8a-433f-b492-af22e0e72222"
      },
      "execution_count": 5,
      "outputs": [
        {
          "output_type": "stream",
          "name": "stdout",
          "text": [
            "I like to eat food.I hated to eat sandwitch in my childhood.\n"
          ]
        }
      ]
    },
    {
      "cell_type": "code",
      "source": [
        "print(sen[4].pos_)"
      ],
      "metadata": {
        "colab": {
          "base_uri": "https://localhost:8080/"
        },
        "id": "mZ6qGpVw9Cts",
        "outputId": "13ec28ac-6d8a-4ba1-da13-4d02bafaea22"
      },
      "execution_count": 18,
      "outputs": [
        {
          "output_type": "stream",
          "name": "stdout",
          "text": [
            "NOUN\n"
          ]
        }
      ]
    },
    {
      "cell_type": "code",
      "source": [
        "print(sen[4].tag_)"
      ],
      "metadata": {
        "colab": {
          "base_uri": "https://localhost:8080/"
        },
        "id": "0irdW3j4-CPi",
        "outputId": "f51d96e3-c56b-4f24-f4dd-835bd79ddc70"
      },
      "execution_count": 19,
      "outputs": [
        {
          "output_type": "stream",
          "name": "stdout",
          "text": [
            "NN\n"
          ]
        }
      ]
    },
    {
      "cell_type": "code",
      "source": [
        "print(spacy.explain(sen[4].tag_))"
      ],
      "metadata": {
        "colab": {
          "base_uri": "https://localhost:8080/"
        },
        "id": "isO4mfRZ-V-C",
        "outputId": "dd2ce930-10ef-4acc-e4b4-2ba27264a492"
      },
      "execution_count": 20,
      "outputs": [
        {
          "output_type": "stream",
          "name": "stdout",
          "text": [
            "noun, singular or mass\n"
          ]
        }
      ]
    },
    {
      "cell_type": "code",
      "source": [
        "for word in sen:\n",
        "  print(f'{word.text:{13}}{word.pos_:{10}}{word.tag_:{8}}{spacy.explain(word.tag_)}')"
      ],
      "metadata": {
        "colab": {
          "base_uri": "https://localhost:8080/"
        },
        "id": "Yqbgxobv-frK",
        "outputId": "8a989af4-253d-4217-c1e0-f984a62031a9"
      },
      "execution_count": 28,
      "outputs": [
        {
          "output_type": "stream",
          "name": "stdout",
          "text": [
            "I            PRON      PRP     pronoun, personal\n",
            "like         VERB      VBP     verb, non-3rd person singular present\n",
            "to           PART      TO      infinitival \"to\"\n",
            "eat          VERB      VB      verb, base form\n",
            "food         NOUN      NN      noun, singular or mass\n",
            ".            PUNCT     .       punctuation mark, sentence closer\n",
            "I            PRON      PRP     pronoun, personal\n",
            "hated        VERB      VBD     verb, past tense\n",
            "to           PART      TO      infinitival \"to\"\n",
            "eat          VERB      VB      verb, base form\n",
            "sandwitch    VERB      VB      verb, base form\n",
            "in           ADP       IN      conjunction, subordinating or preposition\n",
            "my           PRON      PRP$    pronoun, possessive\n",
            "childhood    NOUN      NN      noun, singular or mass\n",
            ".            PUNCT     .       punctuation mark, sentence closer\n"
          ]
        }
      ]
    }
  ]
}